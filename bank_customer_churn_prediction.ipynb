{
 "cells": [
  {
   "cell_type": "markdown",
   "metadata": {},
   "source": [
    "## **Bank Customer Churn Prediction**"
   ]
  },
  {
   "cell_type": "markdown",
   "metadata": {},
   "source": [
    "### **1. Introduction**\n",
    "\n",
    "#### **1.1 Objectives**\n",
    "1. Conduct data exploration and data cleaning\n",
    "2. Conduct descriptive analysis of the data.\n",
    "3. Determine relationship between variables.\n",
    "4. Conduct churn prediction, given the variables in the dataset.\n",
    "5. Share insights and findings through visualizations and observations.\n",
    "\n",
    "#### **1.2 Methodology**\n",
    "1. Use Python and necessary packages in conducting exploratory data analysis and data visualizations.\n",
    "2. Check the dataset for incorrect datatypes and data.\n",
    "3. Check the dataset for null values.\n",
    "4. If there are incorrect datatypes and data and presence of null values, employ necessary actions to correct the data.\n",
    "5. Create additional columns (if necessary) by using data extracted from an existing column.\n",
    "6. Create data visualizations for descriptive analysis.\n",
    "7. Plot relationship between variables using visualization tools such as Seaborn and Matplotlib.\n",
    "8. Write observations based on the results of the analysis.\n",
    "9. Create a machine learning model to predict the likelihood that a customer will churn, based on the variables in the dataset.\n",
    "10. Evaluate the results of the machine learning model and share insights and recommendations.\n"
   ]
  }
 ],
 "metadata": {
  "kernelspec": {
   "display_name": "Python 3",
   "language": "python",
   "name": "python3"
  },
  "language_info": {
   "name": "python",
   "version": "3.11.6"
  }
 },
 "nbformat": 4,
 "nbformat_minor": 2
}
